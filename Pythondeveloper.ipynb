{
 "cells": [
  {
   "cell_type": "markdown",
   "metadata": {},
   "source": [
    "# PYTHON DEVELOPER #"
   ]
  },
  {
   "cell_type": "markdown",
   "metadata": {},
   "source": [
    "1. Pandas: O que é e para que serve?\n"
   ]
  },
  {
   "cell_type": "markdown",
   "metadata": {},
   "source": [
    "**Pandas** é uma biblioteca de Python usada para manipulação e análise de dados. Facilita a manipulação de tabelas e séries temporais, permitindo a limpeza, análise e transformação de dados.\n"
   ]
  },
  {
   "cell_type": "markdown",
   "metadata": {},
   "source": [
    "2. NumPy: O que é e para que serve?"
   ]
  },
  {
   "cell_type": "markdown",
   "metadata": {},
   "source": [
    "**NumPy** é uma biblioteca de Python para computação científica. Fornece suporte para arrays multidimensionais e operações matemáticas sobre esses arrays, essencial para cálculos numéricos e científicos."
   ]
  },
  {
   "cell_type": "markdown",
   "metadata": {},
   "source": [
    "3. scikit-learn: O que é e para que serve?"
   ]
  },
  {
   "cell_type": "markdown",
   "metadata": {},
   "source": [
    "**scikit-learn** é uma biblioteca de Python para aprendizado de máquina. Oferece ferramentas para criar e avaliar modelos de machine learning, incluindo algoritmos de classificação, regressão, clustering e mais."
   ]
  },
  {
   "cell_type": "markdown",
   "metadata": {},
   "source": [
    "4. Como carregar dados no Pandas?"
   ]
  },
  {
   "cell_type": "code",
   "execution_count": null,
   "metadata": {},
   "outputs": [],
   "source": [
    "# Carregar dados de um arquivo CSV\n",
    "df = pd.read_csv('caminho/para/arquivo.csv')\n",
    "df.head()  # Mostrar as primeiras linhas do DataFrame\n"
   ]
  },
  {
   "cell_type": "markdown",
   "metadata": {},
   "source": [
    "5. Como criar um DataFrame?"
   ]
  },
  {
   "cell_type": "code",
   "execution_count": null,
   "metadata": {},
   "outputs": [],
   "source": [
    "# Criar um DataFrame a partir de um dicionário\n",
    "data = {'Coluna1': [1, 2, 3], 'Coluna2': [4, 5, 6]}\n",
    "df = pd.DataFrame(data)\n",
    "df\n"
   ]
  },
  {
   "cell_type": "markdown",
   "metadata": {},
   "source": [
    "6. O que são Series?"
   ]
  },
  {
   "cell_type": "markdown",
   "metadata": {},
   "source": [
    "Uma **Series** é uma estrutura de dados unidimensional no Pandas, semelhante a um vetor ou coluna de uma tabela. Possui um índice e pode armazenar dados de diversos tipos."
   ]
  },
  {
   "cell_type": "markdown",
   "metadata": {},
   "source": [
    "7. Como mostrar um cabeçalho e um rodapé?\n",
    "python"
   ]
  },
  {
   "cell_type": "code",
   "execution_count": null,
   "metadata": {},
   "outputs": [],
   "source": [
    "# Mostrar as 5 primeiras linhas\n",
    "df.head()\n",
    "\n",
    "# Mostrar as 5 últimas linhas\n",
    "df.tail()\n"
   ]
  },
  {
   "cell_type": "markdown",
   "metadata": {},
   "source": [
    "8. Como ver a quantidade de entradas no DataFrame?"
   ]
  },
  {
   "cell_type": "code",
   "execution_count": null,
   "metadata": {},
   "outputs": [],
   "source": [
    "# Número de linhas e colunas\n",
    "df.shape\n",
    "\n",
    "# Número de linhas\n",
    "len(df)\n"
   ]
  },
  {
   "cell_type": "markdown",
   "metadata": {},
   "source": [
    "9. Como retornar o número de linhas e colunas de um DataFrame?\n",
    "python"
   ]
  },
  {
   "cell_type": "code",
   "execution_count": null,
   "metadata": {},
   "outputs": [],
   "source": [
    "# Número de linhas e colunas\n",
    "num_linhas, num_colunas = df.shape\n",
    "num_linhas, num_colunas\n"
   ]
  },
  {
   "cell_type": "markdown",
   "metadata": {},
   "source": [
    "10. Informações do DataFrame:"
   ]
  },
  {
   "cell_type": "code",
   "execution_count": null,
   "metadata": {},
   "outputs": [],
   "source": [
    "# Informações gerais sobre o DataFrame\n",
    "df.info()\n"
   ]
  },
  {
   "cell_type": "markdown",
   "metadata": {},
   "source": [
    "11. Crie uma tabela com Excel, MySql, Pandas e Python"
   ]
  },
  {
   "cell_type": "code",
   "execution_count": 1,
   "metadata": {},
   "outputs": [
    {
     "data": {
      "text/html": [
       "<div>\n",
       "<style scoped>\n",
       "    .dataframe tbody tr th:only-of-type {\n",
       "        vertical-align: middle;\n",
       "    }\n",
       "\n",
       "    .dataframe tbody tr th {\n",
       "        vertical-align: top;\n",
       "    }\n",
       "\n",
       "    .dataframe thead th {\n",
       "        text-align: right;\n",
       "    }\n",
       "</style>\n",
       "<table border=\"1\" class=\"dataframe\">\n",
       "  <thead>\n",
       "    <tr style=\"text-align: right;\">\n",
       "      <th></th>\n",
       "      <th>Categoria</th>\n",
       "      <th>Excel</th>\n",
       "      <th>MySQL</th>\n",
       "      <th>Pandas</th>\n",
       "      <th>Python</th>\n",
       "    </tr>\n",
       "  </thead>\n",
       "  <tbody>\n",
       "    <tr>\n",
       "      <th>0</th>\n",
       "      <td>Números Inteiros</td>\n",
       "      <td>Número Geral (inteiros)</td>\n",
       "      <td>`TINYINT`, `SMALLINT`, `MEDIUMINT`, `INT`, `BI...</td>\n",
       "      <td>`int`</td>\n",
       "      <td>`int`</td>\n",
       "    </tr>\n",
       "    <tr>\n",
       "      <th>1</th>\n",
       "      <td>Números de Ponto Flutuante</td>\n",
       "      <td>Número Geral (decimais)</td>\n",
       "      <td>`FLOAT`, `DOUBLE`</td>\n",
       "      <td>`float`</td>\n",
       "      <td>`float`</td>\n",
       "    </tr>\n",
       "    <tr>\n",
       "      <th>2</th>\n",
       "      <td>Texto</td>\n",
       "      <td>Texto</td>\n",
       "      <td>`CHAR`, `VARCHAR`, `TEXT`, `MEDIUMTEXT`, `LONG...</td>\n",
       "      <td>`object`, `string`</td>\n",
       "      <td>`str`</td>\n",
       "    </tr>\n",
       "    <tr>\n",
       "      <th>3</th>\n",
       "      <td>Data e Hora</td>\n",
       "      <td>Data e Hora</td>\n",
       "      <td>`DATE`, `TIME`, `DATETIME`, `TIMESTAMP`</td>\n",
       "      <td>`datetime64`, `timedelta`</td>\n",
       "      <td>`datetime.date`, `datetime.time`, `datetime.da...</td>\n",
       "    </tr>\n",
       "    <tr>\n",
       "      <th>4</th>\n",
       "      <td>Booleano</td>\n",
       "      <td>Booleano (VERDADEIRO/FALSO)</td>\n",
       "      <td>`BOOLEAN`, `BIT`</td>\n",
       "      <td>`boolean`</td>\n",
       "      <td>`bool`</td>\n",
       "    </tr>\n",
       "    <tr>\n",
       "      <th>5</th>\n",
       "      <td>Dados Binários</td>\n",
       "      <td>Não suportado diretamente</td>\n",
       "      <td>`BLOB`, `MEDIUMBLOB`, `LONGBLOB`</td>\n",
       "      <td>`object` (usando `bytes`)</td>\n",
       "      <td>`bytes`</td>\n",
       "    </tr>\n",
       "    <tr>\n",
       "      <th>6</th>\n",
       "      <td>Estruturas Compostas</td>\n",
       "      <td>Não suportado diretamente</td>\n",
       "      <td>Não aplicável</td>\n",
       "      <td>`DataFrame` (tabelas), `Series` (colunas)</td>\n",
       "      <td>`list`, `tuple`, `set`, `dict`</td>\n",
       "    </tr>\n",
       "  </tbody>\n",
       "</table>\n",
       "</div>"
      ],
      "text/plain": [
       "                    Categoria                        Excel  \\\n",
       "0            Números Inteiros      Número Geral (inteiros)   \n",
       "1  Números de Ponto Flutuante      Número Geral (decimais)   \n",
       "2                       Texto                        Texto   \n",
       "3                 Data e Hora                  Data e Hora   \n",
       "4                    Booleano  Booleano (VERDADEIRO/FALSO)   \n",
       "5              Dados Binários    Não suportado diretamente   \n",
       "6        Estruturas Compostas    Não suportado diretamente   \n",
       "\n",
       "                                               MySQL  \\\n",
       "0  `TINYINT`, `SMALLINT`, `MEDIUMINT`, `INT`, `BI...   \n",
       "1                                  `FLOAT`, `DOUBLE`   \n",
       "2  `CHAR`, `VARCHAR`, `TEXT`, `MEDIUMTEXT`, `LONG...   \n",
       "3            `DATE`, `TIME`, `DATETIME`, `TIMESTAMP`   \n",
       "4                                   `BOOLEAN`, `BIT`   \n",
       "5                   `BLOB`, `MEDIUMBLOB`, `LONGBLOB`   \n",
       "6                                      Não aplicável   \n",
       "\n",
       "                                      Pandas  \\\n",
       "0                                      `int`   \n",
       "1                                    `float`   \n",
       "2                         `object`, `string`   \n",
       "3                  `datetime64`, `timedelta`   \n",
       "4                                  `boolean`   \n",
       "5                  `object` (usando `bytes`)   \n",
       "6  `DataFrame` (tabelas), `Series` (colunas)   \n",
       "\n",
       "                                              Python  \n",
       "0                                              `int`  \n",
       "1                                            `float`  \n",
       "2                                              `str`  \n",
       "3  `datetime.date`, `datetime.time`, `datetime.da...  \n",
       "4                                             `bool`  \n",
       "5                                            `bytes`  \n",
       "6                     `list`, `tuple`, `set`, `dict`  "
      ]
     },
     "execution_count": 1,
     "metadata": {},
     "output_type": "execute_result"
    }
   ],
   "source": [
    "import pandas as pd\n",
    "\n",
    "# Dados da tabela\n",
    "data = {\n",
    "    \"Categoria\": [\n",
    "        \"Números Inteiros\",\n",
    "        \"Números de Ponto Flutuante\",\n",
    "        \"Texto\",\n",
    "        \"Data e Hora\",\n",
    "        \"Booleano\",\n",
    "        \"Dados Binários\",\n",
    "        \"Estruturas Compostas\"\n",
    "    ],\n",
    "    \"Excel\": [\n",
    "        \"Número Geral (inteiros)\",\n",
    "        \"Número Geral (decimais)\",\n",
    "        \"Texto\",\n",
    "        \"Data e Hora\",\n",
    "        \"Booleano (VERDADEIRO/FALSO)\",\n",
    "        \"Não suportado diretamente\",\n",
    "        \"Não suportado diretamente\"\n",
    "    ],\n",
    "    \"MySQL\": [\n",
    "        \"`TINYINT`, `SMALLINT`, `MEDIUMINT`, `INT`, `BIGINT`\",\n",
    "        \"`FLOAT`, `DOUBLE`\",\n",
    "        \"`CHAR`, `VARCHAR`, `TEXT`, `MEDIUMTEXT`, `LONGTEXT`\",\n",
    "        \"`DATE`, `TIME`, `DATETIME`, `TIMESTAMP`\",\n",
    "        \"`BOOLEAN`, `BIT`\",\n",
    "        \"`BLOB`, `MEDIUMBLOB`, `LONGBLOB`\",\n",
    "        \"Não aplicável\"\n",
    "    ],\n",
    "    \"Pandas\": [\n",
    "        \"`int`\",\n",
    "        \"`float`\",\n",
    "        \"`object`, `string`\",\n",
    "        \"`datetime64`, `timedelta`\",\n",
    "        \"`boolean`\",\n",
    "        \"`object` (usando `bytes`)\",\n",
    "        \"`DataFrame` (tabelas), `Series` (colunas)\"\n",
    "    ],\n",
    "    \"Python\": [\n",
    "        \"`int`\",\n",
    "        \"`float`\",\n",
    "        \"`str`\",\n",
    "        \"`datetime.date`, `datetime.time`, `datetime.datetime`, `datetime.timedelta`\",\n",
    "        \"`bool`\",\n",
    "        \"`bytes`\",\n",
    "        \"`list`, `tuple`, `set`, `dict`\"\n",
    "    ]\n",
    "}\n",
    "\n",
    "# Criar DataFrame\n",
    "df = pd.DataFrame(data)\n",
    "\n",
    "# Exibir tabela\n",
    "df\n"
   ]
  },
  {
   "cell_type": "markdown",
   "metadata": {},
   "source": [
    "12. Como examinar tipos no Pandas?"
   ]
  },
  {
   "cell_type": "code",
   "execution_count": null,
   "metadata": {},
   "outputs": [],
   "source": [
    "# Tipos de dados das colunas\n",
    "df.dtypes\n"
   ]
  },
  {
   "cell_type": "markdown",
   "metadata": {},
   "source": [
    "13. Explique sobre describe()"
   ]
  },
  {
   "cell_type": "code",
   "execution_count": null,
   "metadata": {},
   "outputs": [],
   "source": [
    "# Estatísticas descritivas das colunas numéricas\n",
    "df.describe()\n"
   ]
  },
  {
   "cell_type": "markdown",
   "metadata": {},
   "source": [
    "14. Como acessar apenas uma coluna?"
   ]
  },
  {
   "cell_type": "code",
   "execution_count": null,
   "metadata": {},
   "outputs": [],
   "source": [
    "# Acessar uma coluna específica\n",
    "coluna1 = df['Coluna1']\n",
    "coluna1\n"
   ]
  },
  {
   "cell_type": "markdown",
   "metadata": {},
   "source": [
    "15. Como fatiar um DataFrame?"
   ]
  },
  {
   "cell_type": "code",
   "execution_count": null,
   "metadata": {},
   "outputs": [],
   "source": [
    "# Fatiar o DataFrame usando loc (rótulos)\n",
    "subset_loc = df.loc[0:1, 'Coluna1':'Coluna2']\n",
    "\n",
    "# Fatiar o DataFrame usando iloc (posições)\n",
    "subset_iloc = df.iloc[0:2, 0:2]\n"
   ]
  },
  {
   "cell_type": "markdown",
   "metadata": {},
   "source": [
    "16. O que é IA?"
   ]
  },
  {
   "cell_type": "markdown",
   "metadata": {},
   "source": [
    "**Inteligência Artificial (IA)** é o campo da ciência da computação que busca criar sistemas que realizam tarefas que normalmente requerem inteligência humana.\n"
   ]
  },
  {
   "cell_type": "markdown",
   "metadata": {},
   "source": [
    "17. O que é Machine Learning?"
   ]
  },
  {
   "cell_type": "markdown",
   "metadata": {},
   "source": [
    "**Machine Learning (Aprendizado de Máquina)** é uma subárea da IA que foca em criar algoritmos e modelos que permitem aos computadores aprender e fazer previsões com base em dados.\n"
   ]
  },
  {
   "cell_type": "markdown",
   "metadata": {},
   "source": [
    "18. O que é Deep Learning?"
   ]
  },
  {
   "cell_type": "markdown",
   "metadata": {},
   "source": [
    "**Deep Learning (Aprendizado Profundo)** é um subcampo do Machine Learning que usa redes neurais profundas para modelar padrões complexos em grandes volumes de dados."
   ]
  },
  {
   "cell_type": "markdown",
   "metadata": {},
   "source": [
    "19. Quais problemas a IA pode resolver?"
   ]
  },
  {
   "cell_type": "markdown",
   "metadata": {},
   "source": [
    "- Reconhecimento de imagem\n",
    "- Processamento de linguagem natural\n",
    "- Diagnóstico médico\n",
    "- Análise preditiva\n",
    "- Automação de processos\n",
    "- Entretenimento"
   ]
  },
  {
   "cell_type": "markdown",
   "metadata": {},
   "source": [
    "20. Comente sobre funções: loc e iloc"
   ]
  },
  {
   "cell_type": "markdown",
   "metadata": {},
   "source": [
    "- loc: Seleciona dados usando rótulos de linhas e colunas.\n",
    "- iloc: Seleciona dados usando posições inteiras."
   ]
  },
  {
   "cell_type": "markdown",
   "metadata": {},
   "source": [
    "21. Como limpar dados NaN (ausentes)?"
   ]
  },
  {
   "cell_type": "code",
   "execution_count": null,
   "metadata": {},
   "outputs": [],
   "source": [
    "# Remover linhas com NaN\n",
    "df_clean = df.dropna()\n",
    "\n",
    "# Preencher NaN com um valor específico\n",
    "df_filled = df.fillna(value=0)"
   ]
  }
 ],
 "metadata": {
  "kernelspec": {
   "display_name": ".venv",
   "language": "python",
   "name": "python3"
  },
  "language_info": {
   "codemirror_mode": {
    "name": "ipython",
    "version": 3
   },
   "file_extension": ".py",
   "mimetype": "text/x-python",
   "name": "python",
   "nbconvert_exporter": "python",
   "pygments_lexer": "ipython3",
   "version": "3.12.4"
  }
 },
 "nbformat": 4,
 "nbformat_minor": 2
}
